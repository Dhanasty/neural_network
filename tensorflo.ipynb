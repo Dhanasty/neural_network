{
 "cells": [
  {
   "cell_type": "code",
   "execution_count": 1,
   "metadata": {},
   "outputs": [
    {
     "data": {
      "text/plain": [
       "'\\n What are the different data structures used in Tensorflow?. Give some examples \\n\\n\\n Tensors : \\n these are fundamental data structure in tensorflow, representing multidimensional array , that can contain multiple data types such \\n as strings, float , boolean\\n        Scaler : a tensor with zero dimension\\n        Vector : one dimensional tensor\\n        matrix : two dimensional tensor\\n        higher-order tensor : three or more dimensions ( image data )\\n\\nVariable :\\nspecial kinds of tensor whose values can be updated during training , they are used to store model parameters like weights and biases\\n\\nSparse Tensor :\\nrepresent tensors with a large number of elements being zero \\n\\nRagged Tensor :\\nit is containing data in variable length in different dimensions\\n\\nTensor Arrays: \\nUsed to handle dynamically sized arrays of tensors.\\n\\n\\n'"
      ]
     },
     "execution_count": 1,
     "metadata": {},
     "output_type": "execute_result"
    }
   ],
   "source": [
    "'''\n",
    " What are the different data structures used in Tensorflow?. Give some examples \n",
    "\n",
    "\n",
    " Tensors : \n",
    " these are fundamental data structure in tensorflow, representing multidimensional array , that can contain multiple data types such \n",
    " as strings, float , boolean\n",
    "        Scaler : a tensor with zero dimension\n",
    "        Vector : one dimensional tensor\n",
    "        matrix : two dimensional tensor\n",
    "        higher-order tensor : three or more dimensions ( image data )\n",
    "\n",
    "Variable :\n",
    "special kinds of tensor whose values can be updated during training , they are used to store model parameters like weights and biases\n",
    "\n",
    "Sparse Tensor :\n",
    "represent tensors with a large number of elements being zero \n",
    "\n",
    "Ragged Tensor :\n",
    "it is containing data in variable length in different dimensions\n",
    "\n",
    "Tensor Arrays: \n",
    "Used to handle dynamically sized arrays of tensors.\n",
    "\n",
    "\n",
    "'''"
   ]
  },
  {
   "cell_type": "code",
   "execution_count": 2,
   "metadata": {},
   "outputs": [
    {
     "data": {
      "text/plain": [
       "\"\\n2) How does the TensorFlow constant differ from a TensorFlow variable? Explain with an example ? \\n\\nTensorflow Constant : \\n- it is immutable , once it is created then it cannot be changed\\n-constant are stored in computation graph , ideal for small and fixed size data\\n\\n\\n# Defining a constant\\nmy_constant = tf.constant([1, 2, 3], dtype=tf.float32)\\n\\nTensorflow Variable :\\n- it is mutable , is designed to change it's value during the execution of the program\\n- Used in training of the model\\n\\n# Defining a variable\\nmy_variable = tf.Variable([1, 2, 3], dtype=tf.float32)\\n\\n# Modifying the variable\\nmy_variable.assign([4, 5, 6])  # The values can be updated\\n\\n\\n\""
      ]
     },
     "execution_count": 2,
     "metadata": {},
     "output_type": "execute_result"
    }
   ],
   "source": [
    "'''\n",
    "2) How does the TensorFlow constant differ from a TensorFlow variable? Explain with an example ? \n",
    "\n",
    "Tensorflow Constant : \n",
    "- it is immutable , once it is created then it cannot be changed\n",
    "-constant are stored in computation graph , ideal for small and fixed size data\n",
    "\n",
    "\n",
    "# Defining a constant\n",
    "my_constant = tf.constant([1, 2, 3], dtype=tf.float32)\n",
    "\n",
    "Tensorflow Variable :\n",
    "- it is mutable , is designed to change it's value during the execution of the program\n",
    "- Used in training of the model\n",
    "\n",
    "# Defining a variable\n",
    "my_variable = tf.Variable([1, 2, 3], dtype=tf.float32)\n",
    "\n",
    "# Modifying the variable\n",
    "my_variable.assign([4, 5, 6])  # The values can be updated\n",
    "\n",
    "\n",
    "'''"
   ]
  },
  {
   "cell_type": "code",
   "execution_count": 3,
   "metadata": {},
   "outputs": [
    {
     "data": {
      "text/plain": [
       "'\\nMatrix Addition: Use tf.add() or the + operator.\\nMatrix Multiplication: Use tf.matmul() or the @ operator.\\nElement-wise Operations: Use specific functions like tf.add(), tf.multiply(), etc., or the corresponding operators.\\n'"
      ]
     },
     "execution_count": 3,
     "metadata": {},
     "output_type": "execute_result"
    }
   ],
   "source": [
    "'''\n",
    "Matrix Addition: Use tf.add() or the + operator.\n",
    "Matrix Multiplication: Use tf.matmul() or the @ operator.\n",
    "Element-wise Operations: Use specific functions like tf.add(), tf.multiply(), etc., or the corresponding operators.\n",
    "'''"
   ]
  },
  {
   "cell_type": "code",
   "execution_count": 4,
   "metadata": {},
   "outputs": [
    {
     "name": "stdout",
     "output_type": "stream",
     "text": [
      "[[ 0.42126283 -1.0929192   0.0139052 ]\n",
      " [-0.26898926  1.1504499  -1.1654966 ]\n",
      " [ 1.4671072  -1.150896    1.1415794 ]]\n"
     ]
    }
   ],
   "source": [
    "import tensorflow as tf\n",
    "\n",
    "# Create a normal matrix A with dimensions 3x3\n",
    "A = tf.random.normal(shape=(3, 3), mean=0.0, stddev=1.0)\n",
    "\n",
    "# Display the values of matrix A\n",
    "print(A.numpy())\n"
   ]
  },
  {
   "cell_type": "code",
   "execution_count": 5,
   "metadata": {},
   "outputs": [
    {
     "name": "stdout",
     "output_type": "stream",
     "text": [
      "[[ 0.03351218 -0.5543519  -0.16061209 -0.87262386]\n",
      " [-1.3815429  -0.39078432 -1.0726889   0.08686812]\n",
      " [-0.06230154 -1.3174      0.2339513  -0.44028023]\n",
      " [ 0.707461    0.31505203 -0.9074249   0.6621182 ]]\n"
     ]
    }
   ],
   "source": [
    "\n",
    "# Create a Gaussian matrix B with dimensions 4x4\n",
    "B = tf.random.truncated_normal(shape=(4, 4), mean=0.0, stddev=1.0)\n",
    "\n",
    "# Display the values of matrix B\n",
    "print(B.numpy())"
   ]
  },
  {
   "cell_type": "code",
   "execution_count": 6,
   "metadata": {},
   "outputs": [
    {
     "name": "stdout",
     "output_type": "stream",
     "text": [
      "[[2.9544716 2.721411 ]\n",
      " [3.5050406 3.2798185]]\n"
     ]
    }
   ],
   "source": [
    "# Create a matrix C with dimensions 2x2 drawn from a normal distribution\n",
    "mean = 3.0\n",
    "stddev = 0.5\n",
    "C = tf.random.normal(shape=(2, 2), mean=mean, stddev=stddev)\n",
    "\n",
    "# Display the values of matrix C\n",
    "print(C.numpy())"
   ]
  },
  {
   "cell_type": "code",
   "execution_count": 7,
   "metadata": {},
   "outputs": [
    {
     "name": "stdout",
     "output_type": "stream",
     "text": [
      "Matrix A:\n",
      " [[-0.23046136  1.3692015  -0.40297815]\n",
      " [ 1.6456825  -0.3357277  -0.38812593]\n",
      " [-0.8412065   0.53773445  0.82837474]]\n",
      "Matrix B:\n",
      " [[-0.01738109  0.5282682  -1.2888052 ]\n",
      " [-0.17273788  1.0290114   1.1562152 ]\n",
      " [ 1.9675015  -0.46272454  1.1415381 ]]\n",
      "Matrix D (A + B):\n",
      " [[-0.24784245  1.8974698  -1.6917834 ]\n",
      " [ 1.4729446   0.6932837   0.7680893 ]\n",
      " [ 1.1262951   0.07500991  1.9699129 ]]\n"
     ]
    }
   ],
   "source": [
    "# Step 1: Create matrices A and B\n",
    "A = tf.random.normal(shape=(3, 3), mean=0.0, stddev=1.0)  # Example 3x3 matrix\n",
    "B = tf.random.truncated_normal(shape=(3, 3), mean=0.0, stddev=1.0)  # Example 3x3 matrix\n",
    "\n",
    "# Display matrices A and B\n",
    "print(\"Matrix A:\\n\", A.numpy())\n",
    "print(\"Matrix B:\\n\", B.numpy())\n",
    "\n",
    "# Perform matrix addition to create matrix D\n",
    "D = tf.add(A, B)  # or D = A + B\n",
    "print(\"Matrix D (A + B):\\n\", D.numpy())"
   ]
  },
  {
   "cell_type": "code",
   "execution_count": 8,
   "metadata": {},
   "outputs": [
    {
     "name": "stdout",
     "output_type": "stream",
     "text": [
      "Matrix C:\n",
      " [[3.283926  3.4344378]\n",
      " [2.41417   3.9526818]]\n",
      "Matrix E (C * D):\n",
      " [[4.2448406 8.61219  ]\n",
      " [5.2237477 7.3211446]]\n"
     ]
    }
   ],
   "source": [
    "# Step 2: Create matrix C with dimensions 2x2\n",
    "mean = 3.0\n",
    "stddev = 0.5\n",
    "C = tf.random.normal(shape=(2, 2), mean=mean, stddev=stddev)\n",
    "\n",
    "# Display matrix C\n",
    "print(\"Matrix C:\\n\", C.numpy())\n",
    "\n",
    "# Ensure D is 2x2 for multiplication; we will create a 2x2 submatrix from D\n",
    "D_sub = D[:2, :2]  # Take the top-left 2x2 submatrix of D for multiplication\n",
    "\n",
    "# Perform matrix multiplication to create matrix E\n",
    "E = tf.matmul(C, D_sub)  # or E = C @ D_sub\n",
    "print(\"Matrix E (C * D):\\n\", E.numpy())"
   ]
  },
  {
   "cell_type": "code",
   "execution_count": null,
   "metadata": {},
   "outputs": [],
   "source": []
  }
 ],
 "metadata": {
  "kernelspec": {
   "display_name": "git_pw",
   "language": "python",
   "name": "python3"
  },
  "language_info": {
   "codemirror_mode": {
    "name": "ipython",
    "version": 3
   },
   "file_extension": ".py",
   "mimetype": "text/x-python",
   "name": "python",
   "nbconvert_exporter": "python",
   "pygments_lexer": "ipython3",
   "version": "3.12.5"
  }
 },
 "nbformat": 4,
 "nbformat_minor": 2
}
